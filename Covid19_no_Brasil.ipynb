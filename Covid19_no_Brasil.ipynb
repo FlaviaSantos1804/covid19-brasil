{
  "nbformat": 4,
  "nbformat_minor": 0,
  "metadata": {
    "colab": {
      "name": "Covid19 no Brasil.ipynb",
      "provenance": [],
      "toc_visible": true,
      "authorship_tag": "ABX9TyOHwH27W/MW1WqULKeI524O",
      "include_colab_link": true
    },
    "kernelspec": {
      "name": "python3",
      "display_name": "Python 3"
    }
  },
  "cells": [
    {
      "cell_type": "markdown",
      "metadata": {
        "id": "view-in-github",
        "colab_type": "text"
      },
      "source": [
        "<a href=\"https://colab.research.google.com/github/FlaviaSantos1804/covid19-brasil/blob/master/Covid19_no_Brasil.ipynb\" target=\"_parent\"><img src=\"https://colab.research.google.com/assets/colab-badge.svg\" alt=\"Open In Colab\"/></a>"
      ]
    },
    {
      "cell_type": "markdown",
      "metadata": {
        "id": "bqetRmwX80l7",
        "colab_type": "text"
      },
      "source": [
        "# Análise da pandemia de Covid-19 no Brasil \n",
        "Após o 1º caso confirmado em 26/02/2020 no estado paulista, o país vem sofrendo com graves consequências tanto econômicas, quanto sociais. Hospitais e cemitérios vivem cenas aterrorizantes, muitas vidas foram perdidas. Resta saber quando o normal voltará depois de um longo período de isolamento social.\n",
        "\n",
        "\n"
      ]
    },
    {
      "cell_type": "markdown",
      "metadata": {
        "id": "LjRpKqoj8z6W",
        "colab_type": "text"
      },
      "source": [
        "+ Este notebook tem como finalidade acompanhar a evolução da pandemia no país, explorando datasets fornecidos pelo Ministério da Saúde regularmente, os quais são tratados por Raphael Fontes e disponibilizados na kaggle no seguinte endereço: https://www.kaggle.com/unanimad/corona-virus-brazil.\n",
        "Esta análise não possui ligações com organizações, sendo apenas um pequeno projeto pessoal que permite implementar conhecimentos adquiridos tanto em python, quanto em data science.\n"
      ]
    },
    {
      "cell_type": "markdown",
      "metadata": {
        "id": "ubfaI8Se8r1u",
        "colab_type": "text"
      },
      "source": [
        "## 1. Importando as bibliotecas \n"
      ]
    },
    {
      "cell_type": "code",
      "metadata": {
        "id": "If9wme1244D5",
        "colab_type": "code",
        "colab": {}
      },
      "source": [
        "import pandas as pd\n",
        "import numpy as np\n",
        "import seaborn as sns\n",
        "import matplotlib.pyplot as plt"
      ],
      "execution_count": 6,
      "outputs": []
    },
    {
      "cell_type": "markdown",
      "metadata": {
        "id": "shcAr2JUBfqY",
        "colab_type": "text"
      },
      "source": [
        "## 2. Atribuindo o carregamento do dataset em csv à uma variável\n",
        "\n",
        "#### A variável se chama dados e este dataset não apresenta dados à respeito de cidades, apenas de estados e regiões."
      ]
    },
    {
      "cell_type": "code",
      "metadata": {
        "id": "Hcv-N08jBfD5",
        "colab_type": "code",
        "colab": {
          "base_uri": "https://localhost:8080/",
          "height": 402
        },
        "outputId": "ce3436ed-7323-46be-ff7f-7cda28f6f616"
      },
      "source": [
        "dados = pd.read_csv('covid19brasil.csv')\n",
        "dados"
      ],
      "execution_count": null,
      "outputs": [
        {
          "output_type": "execute_result",
          "data": {
            "text/html": [
              "<div>\n",
              "<style scoped>\n",
              "    .dataframe tbody tr th:only-of-type {\n",
              "        vertical-align: middle;\n",
              "    }\n",
              "\n",
              "    .dataframe tbody tr th {\n",
              "        vertical-align: top;\n",
              "    }\n",
              "\n",
              "    .dataframe thead th {\n",
              "        text-align: right;\n",
              "    }\n",
              "</style>\n",
              "<table border=\"1\" class=\"dataframe\">\n",
              "  <thead>\n",
              "    <tr style=\"text-align: right;\">\n",
              "      <th></th>\n",
              "      <th>date</th>\n",
              "      <th>region</th>\n",
              "      <th>state</th>\n",
              "      <th>cases</th>\n",
              "      <th>deaths</th>\n",
              "    </tr>\n",
              "  </thead>\n",
              "  <tbody>\n",
              "    <tr>\n",
              "      <th>0</th>\n",
              "      <td>2020-02-25</td>\n",
              "      <td>Centro-Oeste</td>\n",
              "      <td>DF</td>\n",
              "      <td>0</td>\n",
              "      <td>0</td>\n",
              "    </tr>\n",
              "    <tr>\n",
              "      <th>1</th>\n",
              "      <td>2020-02-25</td>\n",
              "      <td>Centro-Oeste</td>\n",
              "      <td>GO</td>\n",
              "      <td>0</td>\n",
              "      <td>0</td>\n",
              "    </tr>\n",
              "    <tr>\n",
              "      <th>2</th>\n",
              "      <td>2020-02-25</td>\n",
              "      <td>Centro-Oeste</td>\n",
              "      <td>MS</td>\n",
              "      <td>0</td>\n",
              "      <td>0</td>\n",
              "    </tr>\n",
              "    <tr>\n",
              "      <th>3</th>\n",
              "      <td>2020-02-25</td>\n",
              "      <td>Centro-Oeste</td>\n",
              "      <td>MT</td>\n",
              "      <td>0</td>\n",
              "      <td>0</td>\n",
              "    </tr>\n",
              "    <tr>\n",
              "      <th>4</th>\n",
              "      <td>2020-02-25</td>\n",
              "      <td>Nordeste</td>\n",
              "      <td>AL</td>\n",
              "      <td>0</td>\n",
              "      <td>0</td>\n",
              "    </tr>\n",
              "    <tr>\n",
              "      <th>...</th>\n",
              "      <td>...</td>\n",
              "      <td>...</td>\n",
              "      <td>...</td>\n",
              "      <td>...</td>\n",
              "      <td>...</td>\n",
              "    </tr>\n",
              "    <tr>\n",
              "      <th>3073</th>\n",
              "      <td>2020-06-17</td>\n",
              "      <td>Sudeste</td>\n",
              "      <td>RJ</td>\n",
              "      <td>86963</td>\n",
              "      <td>8138</td>\n",
              "    </tr>\n",
              "    <tr>\n",
              "      <th>3074</th>\n",
              "      <td>2020-06-17</td>\n",
              "      <td>Sudeste</td>\n",
              "      <td>SP</td>\n",
              "      <td>191517</td>\n",
              "      <td>11521</td>\n",
              "    </tr>\n",
              "    <tr>\n",
              "      <th>3075</th>\n",
              "      <td>2020-06-17</td>\n",
              "      <td>Sul</td>\n",
              "      <td>PR</td>\n",
              "      <td>11085</td>\n",
              "      <td>386</td>\n",
              "    </tr>\n",
              "    <tr>\n",
              "      <th>3076</th>\n",
              "      <td>2020-06-17</td>\n",
              "      <td>Sul</td>\n",
              "      <td>RS</td>\n",
              "      <td>17128</td>\n",
              "      <td>387</td>\n",
              "    </tr>\n",
              "    <tr>\n",
              "      <th>3077</th>\n",
              "      <td>2020-06-17</td>\n",
              "      <td>Sul</td>\n",
              "      <td>SC</td>\n",
              "      <td>15015</td>\n",
              "      <td>216</td>\n",
              "    </tr>\n",
              "  </tbody>\n",
              "</table>\n",
              "<p>3078 rows × 5 columns</p>\n",
              "</div>"
            ],
            "text/plain": [
              "            date        region state   cases  deaths\n",
              "0     2020-02-25  Centro-Oeste    DF       0       0\n",
              "1     2020-02-25  Centro-Oeste    GO       0       0\n",
              "2     2020-02-25  Centro-Oeste    MS       0       0\n",
              "3     2020-02-25  Centro-Oeste    MT       0       0\n",
              "4     2020-02-25      Nordeste    AL       0       0\n",
              "...          ...           ...   ...     ...     ...\n",
              "3073  2020-06-17       Sudeste    RJ   86963    8138\n",
              "3074  2020-06-17       Sudeste    SP  191517   11521\n",
              "3075  2020-06-17           Sul    PR   11085     386\n",
              "3076  2020-06-17           Sul    RS   17128     387\n",
              "3077  2020-06-17           Sul    SC   15015     216\n",
              "\n",
              "[3078 rows x 5 columns]"
            ]
          },
          "metadata": {
            "tags": []
          },
          "execution_count": 2
        }
      ]
    },
    {
      "cell_type": "markdown",
      "metadata": {
        "id": "v_XYY_8sGhPf",
        "colab_type": "text"
      },
      "source": [
        "## 3. Explorando o dataset"
      ]
    },
    {
      "cell_type": "markdown",
      "metadata": {
        "id": "k24fVFr9GrjO",
        "colab_type": "text"
      },
      "source": [
        "### 3.1 Visualizando as 10 primeiras linhas"
      ]
    },
    {
      "cell_type": "code",
      "metadata": {
        "id": "C-BMB-BF8ksv",
        "colab_type": "code",
        "colab": {
          "base_uri": "https://localhost:8080/",
          "height": 343
        },
        "outputId": "933c8f0b-236f-48e1-bcf9-13a00f24929b"
      },
      "source": [
        "dados.head(10)"
      ],
      "execution_count": null,
      "outputs": [
        {
          "output_type": "execute_result",
          "data": {
            "text/html": [
              "<div>\n",
              "<style scoped>\n",
              "    .dataframe tbody tr th:only-of-type {\n",
              "        vertical-align: middle;\n",
              "    }\n",
              "\n",
              "    .dataframe tbody tr th {\n",
              "        vertical-align: top;\n",
              "    }\n",
              "\n",
              "    .dataframe thead th {\n",
              "        text-align: right;\n",
              "    }\n",
              "</style>\n",
              "<table border=\"1\" class=\"dataframe\">\n",
              "  <thead>\n",
              "    <tr style=\"text-align: right;\">\n",
              "      <th></th>\n",
              "      <th>date</th>\n",
              "      <th>region</th>\n",
              "      <th>state</th>\n",
              "      <th>cases</th>\n",
              "      <th>deaths</th>\n",
              "    </tr>\n",
              "  </thead>\n",
              "  <tbody>\n",
              "    <tr>\n",
              "      <th>0</th>\n",
              "      <td>2020-02-25</td>\n",
              "      <td>Centro-Oeste</td>\n",
              "      <td>DF</td>\n",
              "      <td>0</td>\n",
              "      <td>0</td>\n",
              "    </tr>\n",
              "    <tr>\n",
              "      <th>1</th>\n",
              "      <td>2020-02-25</td>\n",
              "      <td>Centro-Oeste</td>\n",
              "      <td>GO</td>\n",
              "      <td>0</td>\n",
              "      <td>0</td>\n",
              "    </tr>\n",
              "    <tr>\n",
              "      <th>2</th>\n",
              "      <td>2020-02-25</td>\n",
              "      <td>Centro-Oeste</td>\n",
              "      <td>MS</td>\n",
              "      <td>0</td>\n",
              "      <td>0</td>\n",
              "    </tr>\n",
              "    <tr>\n",
              "      <th>3</th>\n",
              "      <td>2020-02-25</td>\n",
              "      <td>Centro-Oeste</td>\n",
              "      <td>MT</td>\n",
              "      <td>0</td>\n",
              "      <td>0</td>\n",
              "    </tr>\n",
              "    <tr>\n",
              "      <th>4</th>\n",
              "      <td>2020-02-25</td>\n",
              "      <td>Nordeste</td>\n",
              "      <td>AL</td>\n",
              "      <td>0</td>\n",
              "      <td>0</td>\n",
              "    </tr>\n",
              "    <tr>\n",
              "      <th>5</th>\n",
              "      <td>2020-02-25</td>\n",
              "      <td>Nordeste</td>\n",
              "      <td>BA</td>\n",
              "      <td>0</td>\n",
              "      <td>0</td>\n",
              "    </tr>\n",
              "    <tr>\n",
              "      <th>6</th>\n",
              "      <td>2020-02-25</td>\n",
              "      <td>Nordeste</td>\n",
              "      <td>CE</td>\n",
              "      <td>0</td>\n",
              "      <td>0</td>\n",
              "    </tr>\n",
              "    <tr>\n",
              "      <th>7</th>\n",
              "      <td>2020-02-25</td>\n",
              "      <td>Nordeste</td>\n",
              "      <td>MA</td>\n",
              "      <td>0</td>\n",
              "      <td>0</td>\n",
              "    </tr>\n",
              "    <tr>\n",
              "      <th>8</th>\n",
              "      <td>2020-02-25</td>\n",
              "      <td>Nordeste</td>\n",
              "      <td>PB</td>\n",
              "      <td>0</td>\n",
              "      <td>0</td>\n",
              "    </tr>\n",
              "    <tr>\n",
              "      <th>9</th>\n",
              "      <td>2020-02-25</td>\n",
              "      <td>Nordeste</td>\n",
              "      <td>PE</td>\n",
              "      <td>0</td>\n",
              "      <td>0</td>\n",
              "    </tr>\n",
              "  </tbody>\n",
              "</table>\n",
              "</div>"
            ],
            "text/plain": [
              "         date        region state  cases  deaths\n",
              "0  2020-02-25  Centro-Oeste    DF      0       0\n",
              "1  2020-02-25  Centro-Oeste    GO      0       0\n",
              "2  2020-02-25  Centro-Oeste    MS      0       0\n",
              "3  2020-02-25  Centro-Oeste    MT      0       0\n",
              "4  2020-02-25      Nordeste    AL      0       0\n",
              "5  2020-02-25      Nordeste    BA      0       0\n",
              "6  2020-02-25      Nordeste    CE      0       0\n",
              "7  2020-02-25      Nordeste    MA      0       0\n",
              "8  2020-02-25      Nordeste    PB      0       0\n",
              "9  2020-02-25      Nordeste    PE      0       0"
            ]
          },
          "metadata": {
            "tags": []
          },
          "execution_count": 3
        }
      ]
    },
    {
      "cell_type": "markdown",
      "metadata": {
        "id": "wgr7oridIVJX",
        "colab_type": "text"
      },
      "source": [
        "### 3.2 Alterando os nomes das colunas"
      ]
    },
    {
      "cell_type": "code",
      "metadata": {
        "id": "Gt5nNc35GzZ_",
        "colab_type": "code",
        "colab": {}
      },
      "source": [
        "alteracoes = {\n",
        "\n",
        "'date':'data',\n",
        "'region':'regiao',\n",
        "'state':'uf',\n",
        "'cases':'casos',\n",
        "'deaths':'obitos'\n",
        "    \n",
        "}"
      ],
      "execution_count": null,
      "outputs": []
    },
    {
      "cell_type": "code",
      "metadata": {
        "id": "qW5CafnqJRI0",
        "colab_type": "code",
        "colab": {}
      },
      "source": [
        "dados.rename(columns=alteracoes,inplace=True)"
      ],
      "execution_count": null,
      "outputs": []
    },
    {
      "cell_type": "code",
      "metadata": {
        "id": "yQEwHPEwJwb9",
        "colab_type": "code",
        "colab": {
          "base_uri": "https://localhost:8080/",
          "height": 136
        },
        "outputId": "ef488d6c-ecbb-4b46-fa91-dd1e9d7b06fd"
      },
      "source": [
        "# Visualizando 3 linhas aleatórias.\n",
        "\n",
        "dados.sample(3)  "
      ],
      "execution_count": null,
      "outputs": [
        {
          "output_type": "execute_result",
          "data": {
            "text/html": [
              "<div>\n",
              "<style scoped>\n",
              "    .dataframe tbody tr th:only-of-type {\n",
              "        vertical-align: middle;\n",
              "    }\n",
              "\n",
              "    .dataframe tbody tr th {\n",
              "        vertical-align: top;\n",
              "    }\n",
              "\n",
              "    .dataframe thead th {\n",
              "        text-align: right;\n",
              "    }\n",
              "</style>\n",
              "<table border=\"1\" class=\"dataframe\">\n",
              "  <thead>\n",
              "    <tr style=\"text-align: right;\">\n",
              "      <th></th>\n",
              "      <th>data</th>\n",
              "      <th>regiao</th>\n",
              "      <th>uf</th>\n",
              "      <th>casos</th>\n",
              "      <th>obitos</th>\n",
              "    </tr>\n",
              "  </thead>\n",
              "  <tbody>\n",
              "    <tr>\n",
              "      <th>573</th>\n",
              "      <td>2020-03-17</td>\n",
              "      <td>Nordeste</td>\n",
              "      <td>CE</td>\n",
              "      <td>5</td>\n",
              "      <td>0</td>\n",
              "    </tr>\n",
              "    <tr>\n",
              "      <th>379</th>\n",
              "      <td>2020-03-10</td>\n",
              "      <td>Centro-Oeste</td>\n",
              "      <td>GO</td>\n",
              "      <td>0</td>\n",
              "      <td>0</td>\n",
              "    </tr>\n",
              "    <tr>\n",
              "      <th>2603</th>\n",
              "      <td>2020-05-31</td>\n",
              "      <td>Nordeste</td>\n",
              "      <td>RN</td>\n",
              "      <td>7402</td>\n",
              "      <td>305</td>\n",
              "    </tr>\n",
              "  </tbody>\n",
              "</table>\n",
              "</div>"
            ],
            "text/plain": [
              "            data        regiao  uf  casos  obitos\n",
              "573   2020-03-17      Nordeste  CE      5       0\n",
              "379   2020-03-10  Centro-Oeste  GO      0       0\n",
              "2603  2020-05-31      Nordeste  RN   7402     305"
            ]
          },
          "metadata": {
            "tags": []
          },
          "execution_count": 6
        }
      ]
    },
    {
      "cell_type": "markdown",
      "metadata": {
        "id": "ClAaNBOeKVJl",
        "colab_type": "text"
      },
      "source": [
        "### 3.3 Modificando o formato da coluna data"
      ]
    },
    {
      "cell_type": "code",
      "metadata": {
        "id": "AlvAmFmKLksT",
        "colab_type": "code",
        "colab": {
          "base_uri": "https://localhost:8080/",
          "height": 118
        },
        "outputId": "28ebd013-75ad-4df3-bc92-71fedb834dfa"
      },
      "source": [
        "# O formato da coluna data está como objeto, ou seja, string. \n",
        "\n",
        "dados.dtypes"
      ],
      "execution_count": null,
      "outputs": [
        {
          "output_type": "execute_result",
          "data": {
            "text/plain": [
              "data      object\n",
              "regiao    object\n",
              "uf        object\n",
              "casos      int64\n",
              "obitos     int64\n",
              "dtype: object"
            ]
          },
          "metadata": {
            "tags": []
          },
          "execution_count": 7
        }
      ]
    },
    {
      "cell_type": "code",
      "metadata": {
        "id": "TXfBu-SQJ-tk",
        "colab_type": "code",
        "colab": {}
      },
      "source": [
        "# Agora, o formato da coluna data será datetime.\n",
        "\n",
        "from datetime import datetime\n",
        "dados['data']=pd.to_datetime(dados['data'],format='%Y-%m-%d')\n",
        "\n",
        "\n"
      ],
      "execution_count": null,
      "outputs": []
    },
    {
      "cell_type": "code",
      "metadata": {
        "id": "mbSR3uMELT_W",
        "colab_type": "code",
        "colab": {
          "base_uri": "https://localhost:8080/",
          "height": 118
        },
        "outputId": "57532a9a-6f82-49f6-f409-8dfec0fbfaa3"
      },
      "source": [
        "# Verificando o formato das colunas.\n",
        "\n",
        "dados.dtypes"
      ],
      "execution_count": null,
      "outputs": [
        {
          "output_type": "execute_result",
          "data": {
            "text/plain": [
              "data      datetime64[ns]\n",
              "regiao            object\n",
              "uf                object\n",
              "casos              int64\n",
              "obitos             int64\n",
              "dtype: object"
            ]
          },
          "metadata": {
            "tags": []
          },
          "execution_count": 12
        }
      ]
    },
    {
      "cell_type": "markdown",
      "metadata": {
        "id": "p_pnzCeXMaHa",
        "colab_type": "text"
      },
      "source": [
        "### 3.4 Verificando o tamanho do dataset\n",
        "\n",
        "\n",
        "\n",
        "\n"
      ]
    },
    {
      "cell_type": "code",
      "metadata": {
        "id": "tlK7BqSsMm-s",
        "colab_type": "code",
        "colab": {
          "base_uri": "https://localhost:8080/",
          "height": 34
        },
        "outputId": "2b4fc571-b91c-4a3a-858b-82b0418a8845"
      },
      "source": [
        "linhas = dados.shape[0]\n",
        "colunas = dados.shape[1]\n",
        "\n",
        "print(f'O dataframe possui {linhas} linhas e {colunas} colunas')"
      ],
      "execution_count": null,
      "outputs": [
        {
          "output_type": "stream",
          "text": [
            "O dataframe possui 3078 linhas e 5 colunas\n"
          ],
          "name": "stdout"
        }
      ]
    },
    {
      "cell_type": "markdown",
      "metadata": {
        "id": "3ZQYdyaFZXoG",
        "colab_type": "text"
      },
      "source": [
        "### 3.5 Conferindo a presença de valores nulos"
      ]
    },
    {
      "cell_type": "code",
      "metadata": {
        "id": "01-QEuiBfbSS",
        "colab_type": "code",
        "colab": {}
      },
      "source": [
        "verificando_nulos = dados.isnull()\n",
        "verificando_nulos"
      ],
      "execution_count": null,
      "outputs": []
    },
    {
      "cell_type": "code",
      "metadata": {
        "id": "8w1Bt-_WZmN9",
        "colab_type": "code",
        "colab": {
          "base_uri": "https://localhost:8080/",
          "height": 50
        },
        "outputId": "b10b4de2-bae6-4f31-8166-97b516e27861"
      },
      "source": [
        "lista=[]\n",
        "for item in verificando_nulos.iterrows():\n",
        "  for tf in item[-1]:\n",
        "      if(tf==True):\n",
        "        lista.append(tf) \n",
        "        dados.dropna(inplace=True)             \n",
        "print(\"Total de valores nulos removidos do dataframe: {}\".format(len(lista)))\n",
        "print(\"O dataframe possui {} linhas atualizadas\".format(dados.shape[0]))\n"
      ],
      "execution_count": null,
      "outputs": [
        {
          "output_type": "stream",
          "text": [
            "Total de valores nulos removidos do dataframe: 0\n",
            "O dataframe possui 3078 linhas atualizadas\n"
          ],
          "name": "stdout"
        }
      ]
    },
    {
      "cell_type": "markdown",
      "metadata": {
        "id": "-U4npbKFnvvv",
        "colab_type": "text"
      },
      "source": [
        "### 3.6 Examinando algumas medidas"
      ]
    },
    {
      "cell_type": "code",
      "metadata": {
        "id": "uWppterjlszW",
        "colab_type": "code",
        "colab": {}
      },
      "source": [
        "# Todos as unidades federativas presentes. \n",
        "\n",
        "for uf in dados['uf'].unique():\n",
        "  print(uf)"
      ],
      "execution_count": null,
      "outputs": []
    },
    {
      "cell_type": "code",
      "metadata": {
        "id": "9fLs4YgzoEDN",
        "colab_type": "code",
        "colab": {}
      },
      "source": [
        "# Quantidade de vezes que cada uf aparece.\n",
        "\n",
        "dados['uf'].value_counts()"
      ],
      "execution_count": null,
      "outputs": []
    },
    {
      "cell_type": "markdown",
      "metadata": {
        "id": "eo5eUyhNqAX_",
        "colab_type": "text"
      },
      "source": [
        "### 3.7 Removendo duplicatas do dataframe"
      ]
    },
    {
      "cell_type": "code",
      "metadata": {
        "id": "R5KDTahrofKW",
        "colab_type": "code",
        "colab": {}
      },
      "source": [
        "# Caso existam linhas duplicadas, elas serão removidas.\n",
        "\n",
        "dados.drop_duplicates(inplace=True)"
      ],
      "execution_count": null,
      "outputs": []
    },
    {
      "cell_type": "code",
      "metadata": {
        "id": "-Jm_NCsLqMhz",
        "colab_type": "code",
        "colab": {
          "base_uri": "https://localhost:8080/",
          "height": 402
        },
        "outputId": "48207df4-616a-437b-cb35-3b8feb19b59c"
      },
      "source": [
        "dados"
      ],
      "execution_count": null,
      "outputs": [
        {
          "output_type": "execute_result",
          "data": {
            "text/html": [
              "<div>\n",
              "<style scoped>\n",
              "    .dataframe tbody tr th:only-of-type {\n",
              "        vertical-align: middle;\n",
              "    }\n",
              "\n",
              "    .dataframe tbody tr th {\n",
              "        vertical-align: top;\n",
              "    }\n",
              "\n",
              "    .dataframe thead th {\n",
              "        text-align: right;\n",
              "    }\n",
              "</style>\n",
              "<table border=\"1\" class=\"dataframe\">\n",
              "  <thead>\n",
              "    <tr style=\"text-align: right;\">\n",
              "      <th></th>\n",
              "      <th>data</th>\n",
              "      <th>regiao</th>\n",
              "      <th>uf</th>\n",
              "      <th>casos</th>\n",
              "      <th>obitos</th>\n",
              "    </tr>\n",
              "  </thead>\n",
              "  <tbody>\n",
              "    <tr>\n",
              "      <th>0</th>\n",
              "      <td>2020-02-25 00:00:00</td>\n",
              "      <td>Centro-Oeste</td>\n",
              "      <td>DF</td>\n",
              "      <td>0</td>\n",
              "      <td>0</td>\n",
              "    </tr>\n",
              "    <tr>\n",
              "      <th>1</th>\n",
              "      <td>2020-02-25 00:00:00</td>\n",
              "      <td>Centro-Oeste</td>\n",
              "      <td>GO</td>\n",
              "      <td>0</td>\n",
              "      <td>0</td>\n",
              "    </tr>\n",
              "    <tr>\n",
              "      <th>2</th>\n",
              "      <td>2020-02-25 00:00:00</td>\n",
              "      <td>Centro-Oeste</td>\n",
              "      <td>MS</td>\n",
              "      <td>0</td>\n",
              "      <td>0</td>\n",
              "    </tr>\n",
              "    <tr>\n",
              "      <th>3</th>\n",
              "      <td>2020-02-25 00:00:00</td>\n",
              "      <td>Centro-Oeste</td>\n",
              "      <td>MT</td>\n",
              "      <td>0</td>\n",
              "      <td>0</td>\n",
              "    </tr>\n",
              "    <tr>\n",
              "      <th>4</th>\n",
              "      <td>2020-02-25 00:00:00</td>\n",
              "      <td>Nordeste</td>\n",
              "      <td>AL</td>\n",
              "      <td>0</td>\n",
              "      <td>0</td>\n",
              "    </tr>\n",
              "    <tr>\n",
              "      <th>...</th>\n",
              "      <td>...</td>\n",
              "      <td>...</td>\n",
              "      <td>...</td>\n",
              "      <td>...</td>\n",
              "      <td>...</td>\n",
              "    </tr>\n",
              "    <tr>\n",
              "      <th>3073</th>\n",
              "      <td>2020-06-17 00:00:00</td>\n",
              "      <td>Sudeste</td>\n",
              "      <td>RJ</td>\n",
              "      <td>86963</td>\n",
              "      <td>8138</td>\n",
              "    </tr>\n",
              "    <tr>\n",
              "      <th>3074</th>\n",
              "      <td>2020-06-17 00:00:00</td>\n",
              "      <td>Sudeste</td>\n",
              "      <td>SP</td>\n",
              "      <td>191517</td>\n",
              "      <td>11521</td>\n",
              "    </tr>\n",
              "    <tr>\n",
              "      <th>3075</th>\n",
              "      <td>2020-06-17 00:00:00</td>\n",
              "      <td>Sul</td>\n",
              "      <td>PR</td>\n",
              "      <td>11085</td>\n",
              "      <td>386</td>\n",
              "    </tr>\n",
              "    <tr>\n",
              "      <th>3076</th>\n",
              "      <td>2020-06-17 00:00:00</td>\n",
              "      <td>Sul</td>\n",
              "      <td>RS</td>\n",
              "      <td>17128</td>\n",
              "      <td>387</td>\n",
              "    </tr>\n",
              "    <tr>\n",
              "      <th>3077</th>\n",
              "      <td>2020-06-17 00:00:00</td>\n",
              "      <td>Sul</td>\n",
              "      <td>SC</td>\n",
              "      <td>15015</td>\n",
              "      <td>216</td>\n",
              "    </tr>\n",
              "  </tbody>\n",
              "</table>\n",
              "<p>3078 rows × 5 columns</p>\n",
              "</div>"
            ],
            "text/plain": [
              "                     data        regiao  uf   casos  obitos\n",
              "0     2020-02-25 00:00:00  Centro-Oeste  DF       0       0\n",
              "1     2020-02-25 00:00:00  Centro-Oeste  GO       0       0\n",
              "2     2020-02-25 00:00:00  Centro-Oeste  MS       0       0\n",
              "3     2020-02-25 00:00:00  Centro-Oeste  MT       0       0\n",
              "4     2020-02-25 00:00:00      Nordeste  AL       0       0\n",
              "...                   ...           ...  ..     ...     ...\n",
              "3073  2020-06-17 00:00:00       Sudeste  RJ   86963    8138\n",
              "3074  2020-06-17 00:00:00       Sudeste  SP  191517   11521\n",
              "3075  2020-06-17 00:00:00           Sul  PR   11085     386\n",
              "3076  2020-06-17 00:00:00           Sul  RS   17128     387\n",
              "3077  2020-06-17 00:00:00           Sul  SC   15015     216\n",
              "\n",
              "[3078 rows x 5 columns]"
            ]
          },
          "metadata": {
            "tags": []
          },
          "execution_count": 170
        }
      ]
    },
    {
      "cell_type": "code",
      "metadata": {
        "id": "nXvmhUibt7jS",
        "colab_type": "code",
        "colab": {}
      },
      "source": [
        ""
      ],
      "execution_count": null,
      "outputs": []
    }
  ]
}